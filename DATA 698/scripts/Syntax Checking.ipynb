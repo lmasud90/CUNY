{
 "cells": [
  {
   "cell_type": "code",
   "execution_count": 5,
   "metadata": {},
   "outputs": [],
   "source": [
    "same_script_path = \"../samples/functions.py\"\n",
    "keywords_file_path = \"../data/keywords.dat\""
   ]
  },
  {
   "cell_type": "code",
   "execution_count": 6,
   "metadata": {},
   "outputs": [],
   "source": [
    "sample_file = open(same_script_path, \"r\")\n",
    "sample_file_contents = sample_file.read()\n",
    "sample_file.close()"
   ]
  },
  {
   "cell_type": "code",
   "execution_count": 7,
   "metadata": {},
   "outputs": [],
   "source": [
    "def find_str(str_to_search, sub_str): \n",
    "    try:\n",
    "        index = str_to_search.index(sub_str)\n",
    "    except:\n",
    "        return -1\n",
    "    return index"
   ]
  },
  {
   "cell_type": "code",
   "execution_count": 8,
   "metadata": {},
   "outputs": [],
   "source": [
    "def extract_functions(filepath):\n",
    "    sample_file = open(filepath, \"r\")\n",
    "    sample_file_contents = sample_file.read()\n",
    "    sample_file.close()\n",
    "\n",
    "    sample_file_lines = sample_file_contents.split(\"\\n\")\n",
    "\n",
    "    function_names = []\n",
    "    for line in sample_file_lines:\n",
    "        if find_str(line, \"def\") != -1:\n",
    "            function_parts = line.split(\"def \")\n",
    "            func_name = function_parts[1].split(\"(\")[0]\n",
    "            function_names.append(func_name)\n",
    "\n",
    "    return function_names"
   ]
  },
  {
   "cell_type": "code",
   "execution_count": 9,
   "metadata": {},
   "outputs": [
    {
     "data": {
      "text/plain": [
       "['hello', 'add', 'subtract', 'multiply']"
      ]
     },
     "execution_count": 9,
     "metadata": {},
     "output_type": "execute_result"
    }
   ],
   "source": [
    "extract_functions(same_script_path)"
   ]
  },
  {
   "cell_type": "code",
   "execution_count": 10,
   "metadata": {},
   "outputs": [],
   "source": [
    "def hamdist(str1, str2):        \n",
    "    diffs = 0\n",
    "    for ch1, ch2 in zip(str1, str2):\n",
    "        if ch1 != ch2:\n",
    "            diffs += 1\n",
    "    return diffs"
   ]
  },
  {
   "cell_type": "code",
   "execution_count": 11,
   "metadata": {},
   "outputs": [
    {
     "data": {
      "text/plain": [
       "4"
      ]
     },
     "execution_count": 11,
     "metadata": {},
     "output_type": "execute_result"
    }
   ],
   "source": [
    "hamdist(\"prin\", \"some_random_string\") "
   ]
  },
  {
   "cell_type": "code",
   "execution_count": 12,
   "metadata": {},
   "outputs": [],
   "source": [
    "import numpy as np\n",
    "\n",
    "def levenshtein(seq1, seq2):  \n",
    "    size_x = len(seq1) + 1\n",
    "    size_y = len(seq2) + 1\n",
    "    matrix = np.zeros ((size_x, size_y))\n",
    "    for x in xrange(size_x):\n",
    "        matrix [x, 0] = x\n",
    "    for y in xrange(size_y):\n",
    "        matrix [0, y] = y\n",
    "\n",
    "    for x in xrange(1, size_x):\n",
    "        for y in xrange(1, size_y):\n",
    "            if seq1[x-1] == seq2[y-1]:\n",
    "                matrix [x,y] = min(\n",
    "                    matrix[x-1, y] + 1,\n",
    "                    matrix[x-1, y-1],\n",
    "                    matrix[x, y-1] + 1\n",
    "                )\n",
    "            else:\n",
    "                matrix [x,y] = min(\n",
    "                    matrix[x-1,y] + 1,\n",
    "                    matrix[x-1,y-1] + 1,\n",
    "                    matrix[x,y-1] + 1\n",
    "                )\n",
    "\n",
    "    return (matrix[size_x - 1, size_y - 1])"
   ]
  },
  {
   "cell_type": "code",
   "execution_count": 13,
   "metadata": {},
   "outputs": [
    {
     "ename": "NameError",
     "evalue": "name 'xrange' is not defined",
     "output_type": "error",
     "traceback": [
      "\u001b[1;31m---------------------------------------------------------------------------\u001b[0m",
      "\u001b[1;31mNameError\u001b[0m                                 Traceback (most recent call last)",
      "\u001b[1;32m<ipython-input-13-9fe67784bdee>\u001b[0m in \u001b[0;36m<module>\u001b[1;34m()\u001b[0m\n\u001b[1;32m----> 1\u001b[1;33m \u001b[0mlevenshtein\u001b[0m\u001b[1;33m(\u001b[0m\u001b[1;34m\"pront\"\u001b[0m\u001b[1;33m,\u001b[0m \u001b[1;34m\"false\"\u001b[0m\u001b[1;33m)\u001b[0m\u001b[1;33m\u001b[0m\u001b[0m\n\u001b[0m",
      "\u001b[1;32m<ipython-input-12-a3e7836a7781>\u001b[0m in \u001b[0;36mlevenshtein\u001b[1;34m(seq1, seq2)\u001b[0m\n\u001b[0;32m      5\u001b[0m     \u001b[0msize_y\u001b[0m \u001b[1;33m=\u001b[0m \u001b[0mlen\u001b[0m\u001b[1;33m(\u001b[0m\u001b[0mseq2\u001b[0m\u001b[1;33m)\u001b[0m \u001b[1;33m+\u001b[0m \u001b[1;36m1\u001b[0m\u001b[1;33m\u001b[0m\u001b[0m\n\u001b[0;32m      6\u001b[0m     \u001b[0mmatrix\u001b[0m \u001b[1;33m=\u001b[0m \u001b[0mnp\u001b[0m\u001b[1;33m.\u001b[0m\u001b[0mzeros\u001b[0m \u001b[1;33m(\u001b[0m\u001b[1;33m(\u001b[0m\u001b[0msize_x\u001b[0m\u001b[1;33m,\u001b[0m \u001b[0msize_y\u001b[0m\u001b[1;33m)\u001b[0m\u001b[1;33m)\u001b[0m\u001b[1;33m\u001b[0m\u001b[0m\n\u001b[1;32m----> 7\u001b[1;33m     \u001b[1;32mfor\u001b[0m \u001b[0mx\u001b[0m \u001b[1;32min\u001b[0m \u001b[0mxrange\u001b[0m\u001b[1;33m(\u001b[0m\u001b[0msize_x\u001b[0m\u001b[1;33m)\u001b[0m\u001b[1;33m:\u001b[0m\u001b[1;33m\u001b[0m\u001b[0m\n\u001b[0m\u001b[0;32m      8\u001b[0m         \u001b[0mmatrix\u001b[0m \u001b[1;33m[\u001b[0m\u001b[0mx\u001b[0m\u001b[1;33m,\u001b[0m \u001b[1;36m0\u001b[0m\u001b[1;33m]\u001b[0m \u001b[1;33m=\u001b[0m \u001b[0mx\u001b[0m\u001b[1;33m\u001b[0m\u001b[0m\n\u001b[0;32m      9\u001b[0m     \u001b[1;32mfor\u001b[0m \u001b[0my\u001b[0m \u001b[1;32min\u001b[0m \u001b[0mxrange\u001b[0m\u001b[1;33m(\u001b[0m\u001b[0msize_y\u001b[0m\u001b[1;33m)\u001b[0m\u001b[1;33m:\u001b[0m\u001b[1;33m\u001b[0m\u001b[0m\n",
      "\u001b[1;31mNameError\u001b[0m: name 'xrange' is not defined"
     ]
    }
   ],
   "source": [
    "levenshtein(\"pront\", \"false\")"
   ]
  },
  {
   "cell_type": "code",
   "execution_count": 14,
   "metadata": {},
   "outputs": [
    {
     "name": "stdout",
     "output_type": "stream",
     "text": [
      "Requirement already satisfied: pyjarowinkler in c:\\users\\latif\\anaconda3\\lib\\site-packages\n"
     ]
    },
    {
     "name": "stderr",
     "output_type": "stream",
     "text": [
      "You are using pip version 9.0.1, however version 10.0.1 is available.\n",
      "You should consider upgrading via the 'python -m pip install --upgrade pip' command.\n"
     ]
    }
   ],
   "source": [
    "!pip install pyjarowinkler"
   ]
  },
  {
   "cell_type": "code",
   "execution_count": 15,
   "metadata": {},
   "outputs": [],
   "source": [
    "from pyjarowinkler import distance\n",
    "\n",
    "def jaro_winkler(seq1, seq2):\n",
    "    return distance.get_jaro_distance(seq1, seq2, winkler=True, scaling=0.1)"
   ]
  },
  {
   "cell_type": "code",
   "execution_count": 16,
   "metadata": {},
   "outputs": [
    {
     "data": {
      "text/plain": [
       "0.95"
      ]
     },
     "execution_count": 16,
     "metadata": {},
     "output_type": "execute_result"
    }
   ],
   "source": [
    "jaro_winkler(\"prnt\", \"print\")"
   ]
  },
  {
   "cell_type": "code",
   "execution_count": 17,
   "metadata": {},
   "outputs": [
    {
     "data": {
      "text/plain": [
       "['and',\n",
       " 'as',\n",
       " 'assert',\n",
       " 'async',\n",
       " 'await',\n",
       " 'break',\n",
       " 'class',\n",
       " 'continue',\n",
       " 'def',\n",
       " 'del',\n",
       " 'elif',\n",
       " 'else',\n",
       " 'except',\n",
       " 'exec',\n",
       " 'False',\n",
       " 'finally',\n",
       " 'for',\n",
       " 'from',\n",
       " 'global',\n",
       " 'if',\n",
       " 'import',\n",
       " 'in',\n",
       " 'is',\n",
       " 'lambda',\n",
       " 'None',\n",
       " 'nonlocal',\n",
       " 'not',\n",
       " 'or',\n",
       " 'pass',\n",
       " 'print',\n",
       " 'raise',\n",
       " 'return',\n",
       " 'True',\n",
       " 'try',\n",
       " 'while',\n",
       " 'with',\n",
       " 'yield']"
      ]
     },
     "execution_count": 17,
     "metadata": {},
     "output_type": "execute_result"
    }
   ],
   "source": [
    "def get_python_keywords():\n",
    "    keywords_file = open(keywords_file_path, \"r\")\n",
    "    keywords_file_content = keywords_file.read()\n",
    "    keywords_file.close()\n",
    "    \n",
    "    return keywords_file_content.split(\"\\n\")\n",
    "    \n",
    "get_python_keywords()"
   ]
  },
  {
   "cell_type": "code",
   "execution_count": 18,
   "metadata": {},
   "outputs": [
    {
     "data": {
      "text/plain": [
       "'subtract'"
      ]
     },
     "execution_count": 18,
     "metadata": {},
     "output_type": "execute_result"
    }
   ],
   "source": [
    "def closest_keyword(filepath, seq):\n",
    "    keywords = extract_functions(same_script_path) + get_python_keywords()\n",
    "    highest_score = -1\n",
    "    closest_word = \"\"\n",
    "    for word in keywords:\n",
    "        score= jaro_winkler(seq, word)\n",
    "\n",
    "        if score > highest_score:\n",
    "            highest_score = score\n",
    "            closest_word = word\n",
    "    \n",
    "    return closest_word\n",
    "\n",
    "closest_keyword(same_script_path, \"sbutract\")"
   ]
  },
  {
   "cell_type": "code",
   "execution_count": 19,
   "metadata": {},
   "outputs": [],
   "source": [
    "def classify_error(code_string):\n",
    "    try:\n",
    "        exec(code_string)\n",
    "    except IndexError:\n",
    "        return \"IndexError\" # Index in an array doesn't exist\n",
    "    except TypeError:\n",
    "        return \"TypeError\" # Attempting to mix two types that can't operate with one another\n",
    "    except ZeroDivisionError: \n",
    "        return \"ZeroDivisionError\" # When dividing by zero\n",
    "    except NameError: \n",
    "        return \"NameError\" #  when a name/variable does not exist"
   ]
  },
  {
   "cell_type": "code",
   "execution_count": 20,
   "metadata": {},
   "outputs": [
    {
     "data": {
      "text/plain": [
       "'ZeroDivisionError'"
      ]
     },
     "execution_count": 20,
     "metadata": {},
     "output_type": "execute_result"
    }
   ],
   "source": [
    "classify_error(\"1/0\")"
   ]
  },
  {
   "cell_type": "code",
   "execution_count": 21,
   "metadata": {},
   "outputs": [
    {
     "data": {
      "text/plain": [
       "'IndexError'"
      ]
     },
     "execution_count": 21,
     "metadata": {},
     "output_type": "execute_result"
    }
   ],
   "source": [
    "arr = [1]\n",
    "classify_error(\"arr[4]\")"
   ]
  },
  {
   "cell_type": "code",
   "execution_count": 22,
   "metadata": {},
   "outputs": [],
   "source": [
    "def fix_typos(error_script_path):\n",
    "    file_ref = open(error_script_path, \"r\")\n",
    "    file_contents = file_ref.read()\n",
    "    file_ref.close()\n",
    "\n",
    "    file_lines = file_contents.split(\"\\n\")\n",
    "    new_lines = \"\"\n",
    "    for line in file_lines:\n",
    "        calls = line.split(\"(\")\n",
    "        #print(line)\n",
    "        \n",
    "        fixes = []\n",
    "        for call in calls:\n",
    "            # checking for the call not being a def\n",
    "            if (find_str(call, \"def\") == -1) and (find_str(call, \",\") == -1) \\\n",
    "                and (find_str(call, \")\") == -1) :\n",
    "                parms = call.split(\" \")\n",
    "                parms = list(filter(None, parms)) \n",
    "\n",
    "                if len(parms) > 0:\n",
    "                    function_name = parms[0]\n",
    "                    closest = closest_keyword(error_script_path, function_name)\n",
    "                    fixes.append((function_name, closest))\n",
    "        \n",
    "        fixed = line\n",
    "        for fix in fixes:\n",
    "            fixed = line.replace(fix[0], fix[1])\n",
    "        \n",
    "        new_lines += fixed + \"\\n\"\n",
    "    \n",
    "    return new_lines"
   ]
  },
  {
   "cell_type": "code",
   "execution_count": 23,
   "metadata": {},
   "outputs": [
    {
     "data": {
      "text/plain": [
       "'def add(a,b):\\n    return a + b\\n\\nprint(add(1,2))\\nprint(\"hello\")\\n'"
      ]
     },
     "execution_count": 23,
     "metadata": {},
     "output_type": "execute_result"
    }
   ],
   "source": [
    "error_script_path = \"../samples/script_with_error.py\"\n",
    "fix_typos(error_script_path)"
   ]
  },
  {
   "cell_type": "code",
   "execution_count": 24,
   "metadata": {},
   "outputs": [
    {
     "data": {
      "text/plain": [
       "'123bcd'"
      ]
     },
     "execution_count": 24,
     "metadata": {},
     "output_type": "execute_result"
    }
   ],
   "source": [
    "a = \"abcd\"\n",
    "a.replace(\"a\", \"123\")"
   ]
  },
  {
   "cell_type": "code",
   "execution_count": 25,
   "metadata": {},
   "outputs": [],
   "source": [
    "import linecache\n",
    "import sys\n",
    "\n",
    "def identify_exeception():\n",
    "    exc_type, exc_obj, tb = sys.exc_info()\n",
    "    f = tb.tb_frame\n",
    "    lineno = tb.tb_lineno\n",
    "    filename = f.f_code.co_filename\n",
    "    linecache.checkcache(filename)\n",
    "    line = linecache.getline(filename, lineno, f.f_globals)\n",
    "    print('EXCEPTION FOUND IN ({}, LINE {} \"{}\"): {}'.format(filename, lineno, line.strip(), exc_obj))\n",
    "    return (filename, lineno, line.strip(), exc_obj)\n"
   ]
  },
  {
   "cell_type": "code",
   "execution_count": 88,
   "metadata": {},
   "outputs": [],
   "source": [
    "def error_line(code):\n",
    "    n = 1\n",
    "    for line in code.split(\"\\n\"):\n",
    "        try:\n",
    "            exec(line)\n",
    "            n = n + 1\n",
    "        except:\n",
    "            break\n",
    "\n",
    "    return (n, line)"
   ]
  },
  {
   "cell_type": "code",
   "execution_count": null,
   "metadata": {},
   "outputs": [],
   "source": [
    "extrac_type(line)"
   ]
  },
  {
   "cell_type": "code",
   "execution_count": 137,
   "metadata": {},
   "outputs": [],
   "source": [
    "import re\n",
    "\n",
    "def classify_error(code_string):\n",
    "    try:\n",
    "        exec(code_string)\n",
    "    except NameError:\n",
    "        exception = identify_exeception()\n",
    "        err_vars = re.findall(r'\\'\\w+\\'', str(exception[3]))\n",
    "        return (\"NameError\", err_vars[0].replace(\"'\", \"\"))\n",
    "    \n",
    "    except TypeError:\n",
    "        exception = identify_exeception()\n",
    "        line = error_line(code_string)\n",
    "        error_type = re.findall(r'(must be )(\\w+)', str(exception[3]))[0][1]\n",
    "        return (\"TypeError\", (error_type, line))\n",
    "    \n",
    "    except ZeroDivisionError:\n",
    "        line = error_line(code_string)\n",
    "        return(\"ZeroDivisionError\", line)\n",
    "    \n",
    "    except IndexError:\n",
    "        line = error_line(code_string)\n",
    "        return(\"IndexError\", line)  \n",
    "    \n",
    "    return (None, \"\")\n"
   ]
  },
  {
   "cell_type": "code",
   "execution_count": 156,
   "metadata": {},
   "outputs": [],
   "source": [
    "error_script_path = \"../samples/index_error.py\"\n",
    "def fix_errors(error_script_path):\n",
    "    file_ref = open(error_script_path, \"r\")\n",
    "    code = file_ref.read()\n",
    "    file_ref.close()\n",
    "\n",
    "    error_type, data = classify_error(code)\n",
    "    if error_type == \"NameError\":\n",
    "        replacement = closest_keyword(error_script_path, data)\n",
    "        code = code.replace(data, replacement)\n",
    "        print(code)\n",
    "\n",
    "    elif error_type == \"TypeError\":\n",
    "        correct_type, line_info = data\n",
    "        line_number, line_txt = line_info\n",
    "        line_vars = line_txt.split(\" \")[1:]\n",
    "        filtered = []\n",
    "        for t in line_vars:\n",
    "            if t.isalnum():\n",
    "                line_txt = line_txt.replace(t, correct_type+\"(\"+t+\")\")\n",
    "\n",
    "        lines = code.split(\"\\n\")\n",
    "        lines[line_number -1] = line_txt\n",
    "        new_code = \"\\n\".join(lines)\n",
    "        print(new_code)\n",
    "\n",
    "    elif error_type == \"ZeroDivisionError\":\n",
    "        line_number, line_txt = data\n",
    "        line_txt = data[1].replace(\"/0\", \"/1\")\n",
    "        lines = code.split(\"\\n\")\n",
    "        lines[line_number -1] = line_txt\n",
    "        new_code = \"\\n\".join(lines)\n",
    "        print(new_code)\n",
    "\n",
    "    elif error_type == \"IndexError\":\n",
    "        line_number, line_txt = data\n",
    "        lines = code.split(\"\\n\")\n",
    "        print(line_txt)\n",
    "        lines[line_number -1] = re.sub(\"([\\(\\[]).*?([\\)\\]])\", \"\\g<1>-1\\g<2>\", line_txt)\n",
    "        new_code = \"\\n\".join(lines)\n",
    "        print(new_code)"
   ]
  },
  {
   "cell_type": "code",
   "execution_count": 157,
   "metadata": {},
   "outputs": [
    {
     "name": "stdout",
     "output_type": "stream",
     "text": [
      "x = 1\n",
      "y = x/1\n"
     ]
    }
   ],
   "source": [
    "error_script_path = \"../samples/zero_division.py\"\n",
    "fix_errors(error_script_path)"
   ]
  },
  {
   "cell_type": "code",
   "execution_count": 142,
   "metadata": {},
   "outputs": [
    {
     "data": {
      "text/plain": [
       "'a[-1]'"
      ]
     },
     "execution_count": 142,
     "metadata": {},
     "output_type": "execute_result"
    }
   ],
   "source": [
    "x = \"a[14]\"\n",
    "re.sub(\"([\\(\\[]).*?([\\)\\]])\", \"\\g<1>-1\\g<2>\", x)"
   ]
  },
  {
   "cell_type": "code",
   "execution_count": null,
   "metadata": {},
   "outputs": [],
   "source": [
    "while (error_type != None):\n",
    "    if error_type == \"NameError\":\n",
    "        replacement = closest_keyword(error_script_path, data)\n",
    "        code = code.replace(data, replacement)\n",
    "    \n",
    "    error_type, data = classify_error(code)\n",
    "    \n",
    "print(code)    "
   ]
  }
 ],
 "metadata": {
  "kernelspec": {
   "display_name": "Python 3",
   "language": "python",
   "name": "python3"
  },
  "language_info": {
   "codemirror_mode": {
    "name": "ipython",
    "version": 3
   },
   "file_extension": ".py",
   "mimetype": "text/x-python",
   "name": "python",
   "nbconvert_exporter": "python",
   "pygments_lexer": "ipython3",
   "version": "3.6.4"
  }
 },
 "nbformat": 4,
 "nbformat_minor": 2
}
